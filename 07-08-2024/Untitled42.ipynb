{
  "nbformat": 4,
  "nbformat_minor": 0,
  "metadata": {
    "colab": {
      "provenance": []
    },
    "kernelspec": {
      "name": "python3",
      "display_name": "Python 3"
    },
    "language_info": {
      "name": "python"
    }
  },
  "cells": [
    {
      "cell_type": "code",
      "execution_count": 6,
      "metadata": {
        "colab": {
          "base_uri": "https://localhost:8080/"
        },
        "id": "SWXVBXpdL_iX",
        "outputId": "f66e790c-5740-49ed-e433-cbe2ee9b2de8"
      },
      "outputs": [
        {
          "output_type": "stream",
          "name": "stdout",
          "text": [
            "Accuracy:0.000000%\n",
            "Predicted for the new review: 1\n"
          ]
        }
      ],
      "source": [
        "#create a model with logistic regression and bow for the text classification\n",
        "\n",
        "import numpy as np\n",
        "from sklearn.feature_extraction.text import CountVectorizer\n",
        "from sklearn.linear_model import LogisticRegression\n",
        "from sklearn.metrics import accuracy_score\n",
        "from sklearn.model_selection import train_test_split\n",
        "\n",
        "#create sample data\n",
        "reviews =[\n",
        "    \"i love the movie,it was good\",\n",
        "    \"the movie was boring\",\n",
        "    \"excellent movie, actors done well\",\n",
        "    \"it was a normal movie, nothing special\"\n",
        "]\n",
        "\n",
        "#positive=1, negative=0, neutral=2\n",
        "labels = [1,0,1,2]\n",
        "#create vectorization for the above\n",
        "vectorizer = CountVectorizer()\n",
        "X = vectorizer.fit_transform(reviews)\n",
        "y = np.array(labels)\n",
        "#splitted the trains sets and test sets\n",
        "x_train, x_test, y_train, y_test = train_test_split(X,y,test_size=0.2,random_state=42)\n",
        "\n",
        "#create our model\n",
        "model = LogisticRegression()\n",
        "model.fit(x_train,y_train)\n",
        "y_pred = model.predict(x_test)\n",
        "accuracy = accuracy_score(y_test,y_pred)\n",
        "print(f\"Accuracy:{accuracy*100:2f}%\")\n",
        "\n",
        "# Create a sample review for the prediction\n",
        "new_review = [\"i really enjoyed the movie\"]\n",
        "# Transform the new review using the same vectorizer\n",
        "new_review_vectorized = vectorizer.transform(new_review)\n",
        "# Predict the sentiment of the new review\n",
        "new_review_prediction = model.predict(new_review_vectorized)\n",
        "# Display the predicted sentiment\n",
        "print(f\"Predicted for the new review: {new_review_prediction[0]}\")\n",
        "\n",
        "\n"
      ]
    }
  ]
}